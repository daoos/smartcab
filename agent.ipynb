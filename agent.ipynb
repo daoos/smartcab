{
 "cells": [
  {
   "cell_type": "markdown",
   "metadata": {},
   "source": [
    "# Teach a smartcab to drive\n",
    "\n",
    "\n",
    "## Setup\n",
    "\n",
    "You need Python 2.7 and pygame for this project: https://www.pygame.org/wiki/GettingStarted\n",
    "For help with installation, it is best to reach out to the pygame community [help page, Google group, reddit].\n",
    "\n"
   ]
  },
  {
   "cell_type": "code",
   "execution_count": 1,
   "metadata": {
    "collapsed": false,
    "scrolled": true
   },
   "outputs": [
    {
     "name": "stdout",
     "output_type": "stream",
     "text": [
      "in notebook\n",
      "Environment ready\n"
     ]
    }
   ],
   "source": [
    "# Import what we need, and setup the basic function to run from later.\n",
    "\n",
    "import math\n",
    "import string\n",
    "import sys\n",
    "import os\n",
    "import random\n",
    "\n",
    "import numpy as np\n",
    "import pandas as pd\n",
    "\n",
    "import matplotlib.pyplot as plt\n",
    "try:\n",
    "    cfg = get_ipython().config \n",
    "    if cfg['IPKernelApp']['parent_appname'] == 'ipython-notebook':\n",
    "        print \"in notebook\"\n",
    "        from IPython.display import display # Allows the use of display() for DataFrames\n",
    "        %matplotlib inline    \n",
    "    else:\n",
    "        print \"in notebook\"\n",
    "        from IPython.display import display # Allows the use of display() for DataFrames\n",
    "        %matplotlib inline  \n",
    "    console=False\n",
    "except NameError:\n",
    "    print \"in console\"\n",
    "    console=True\n",
    "sys.path.append(\"./smartcab/\")\n",
    "from environment import Agent, Environment\n",
    "from planner import RoutePlanner\n",
    "from simulator import Simulator\n",
    "\n",
    "print \"Environment ready\""
   ]
  },
  {
   "cell_type": "code",
   "execution_count": 2,
   "metadata": {
    "collapsed": false
   },
   "outputs": [
    {
     "name": "stdout",
     "output_type": "stream",
     "text": [
      "test a\n",
      "redirecting stdout....\n",
      "stdout restored!\n",
      "redirecting stdout....\n",
      "stdout restored!\n",
      "Redirector ready\n"
     ]
    }
   ],
   "source": [
    "# Several of the provided modules output unuseful information during each run. \n",
    "#  Here we provide a way to supress that output as needed. \n",
    "class outputRedirect():\n",
    "    def __init__(self):\n",
    "        self.stout_orig=sys.stdout  # save the current state\n",
    "    \n",
    "    def reset(self): #restore to the original state when initiated\n",
    "        sys.stdout = self.stout_orig\n",
    "        print \"stdout restored!\"\n",
    "        \n",
    "    def suppress_output(self): # a well formed name for the default of the redirect_output\n",
    "        self.redirect_output()\n",
    "        \n",
    "    def redirect_output(self,f= open(os.devnull, 'w')): # redirect to f, if provided, otherwise to null\n",
    "        try:\n",
    "            print \"redirecting stdout....\"\n",
    "            sys.stdout = f\n",
    "        except:\n",
    "            return \"couldn't open destination...\"\n",
    "            self.reset = f\n",
    "            \n",
    "redirector=outputRedirect()\n",
    "\n",
    "print \"test a\"\n",
    "redirector.suppress_output()\n",
    "print \"test b\"\n",
    "redirector.reset()\n",
    "redirector.redirect_output(open(os.devnull, 'w'))\n",
    "print \"test c\"\n",
    "redirector.reset()\n",
    "print \"Redirector ready\""
   ]
  },
  {
   "cell_type": "code",
   "execution_count": 46,
   "metadata": {
    "collapsed": false
   },
   "outputs": [
    {
     "name": "stdout",
     "output_type": "stream",
     "text": [
      "run ready\n"
     ]
    }
   ],
   "source": [
    "def run(agentType,trials=10, gui=False, deadline=True, delay=0):\n",
    "    \"\"\"Run the agent for a finite number of trials.\"\"\"\n",
    "    \n",
    "    # Set up environment and agent\n",
    "    \n",
    "    if gui ==False:\n",
    "        redirector=outputRedirect()\n",
    "        redirector.suppress_output()\n",
    "        delay=0\n",
    "    \n",
    "    e = Environment()  # create environment (also adds some dummy traffic)\n",
    "    a = e.create_agent(agentType)  # create agent\n",
    "    e.set_primary_agent(a, enforce_deadline=deadline)  # specify agent to track\n",
    "    # NOTE: You can set enforce_deadline=False while debugging to allow longer trials\n",
    "\n",
    "    # Now simulate it\n",
    "    sim = Simulator(e, update_delay=delay, display=gui)  # create simulator (uses pygame when display=True, if available)\n",
    "    # NOTE: To speed up simulation, reduce update_delay and/or set display=False\n",
    "\n",
    "    sim.run(n_trials=trials)  # run for a specified number of trials\n",
    "    # NOTE: To quit midway, press Esc or close pygame window, or hit Ctrl+C on the command-line\n",
    "    \n",
    "    if gui ==False:\n",
    "        redirector.reset()    \n",
    "        \n",
    "    print \"Successfull runs = {}\".format(a.goal)\n",
    "    print \"----------------------------------------------------------\"\n",
    "    features= [] # the state at each turn in the run\n",
    "    deadlines = [] # the deadline at each turn in the run\n",
    "    for i in range(len(a.features)):\n",
    "        features.append(pd.DataFrame(a.features[i]).T)\n",
    "        deadlines.append(a.deadline[i])\n",
    "        \n",
    "    rewards=[] # the total reward for each run\n",
    "    for i in range(len(a.total_reward)):\n",
    "        rewards.append(a.total_reward[i])\n",
    "\n",
    "\n",
    "    try:\n",
    "        print \"Qtable: \",len(a.Qtable)\n",
    "        print \"state=light, oncoming, right, left, next_waypoint  / actions=None, forward, left, right\\n\"\n",
    "        for r in a.Qtable:\n",
    "            print \"state={}, {}, {}, {}, {} / action={}\".format(r[0],r[1],r[2],r[3],r[4], a.Qtable[r])\n",
    "    except:\n",
    "        print \"no Qtable\"\n",
    "\n",
    "    return features,deadlines,rewards\n",
    "\n",
    "print \"run ready\""
   ]
  },
  {
   "cell_type": "code",
   "execution_count": 112,
   "metadata": {
    "collapsed": false
   },
   "outputs": [
    {
     "name": "stdout",
     "output_type": "stream",
     "text": [
      "graph display ready\n"
     ]
    }
   ],
   "source": [
    "# display the feedback from the prior runs graphically\n",
    "def statsFromRun(feat,DL,RW):\n",
    "    left=pd.Series()\n",
    "    light=pd.Series()\n",
    "    next_waypoint=pd.Series()\n",
    "    oncoming=pd.Series()\n",
    "    right=pd.Series()\n",
    "    for f in feat:\n",
    "        left= left.add(pd.value_counts(f.left.ravel()), fill_value=0)\n",
    "        light= light.add(pd.value_counts(f.light.ravel()), fill_value=0)\n",
    "        next_waypoint= next_waypoint.add(pd.value_counts(f.next_waypoint.ravel()), fill_value=0)\n",
    "        oncoming= oncoming.add(pd.value_counts(f.oncoming.ravel()), fill_value=0)\n",
    "        right= right.add(pd.value_counts(f.right.ravel()), fill_value=0)\n",
    "\n",
    "    fig, axes = plt.subplots(nrows=2, ncols=3,figsize=(14,6))\n",
    "    fig.suptitle( \"Runs:{}\".format(len(feat)))\n",
    "\n",
    "    left.plot(kind='bar', title=\"Left\",ax=axes[0,0])\n",
    "    light.plot(kind='bar', title=\"light\",ax=axes[0,1])\n",
    "    next_waypoint.plot(kind='bar', title=\"next_waypoint\",ax=axes[0,2])\n",
    "    oncoming.plot(kind='bar', title=\"oncoming\",ax=axes[1,0])\n",
    "    right.plot(kind='bar', title=\"right\",ax=axes[1,2])\n",
    "    axes[1,1].plot(DL,label=\"Deadlines\")\n",
    "    axes[1,1].plot(RW,label=\"Rewards\")\n",
    "    #axes[1,1].xlabel('Run')\n",
    "    axes[1,1].legend(loc=2)\n",
    "    #axes[1,1].title(\"Deadline and Rewards per Run\")\n",
    "    \n",
    "    plt.show()\n",
    "    plt.close()\n",
    "    \n",
    "def scorePerRun(DL,RW):\n",
    "    plt.figure(figsize=(14,6))\n",
    "    plt.plot(DL,label=\"Deadlines\")\n",
    "    plt.plot(RW,label=\"Rewards\")\n",
    "    plt.xlabel('Run')\n",
    "    plt.legend()\n",
    "    plt.title(\"Deadline and Rewards per Run\")\n",
    "    plt.show()\n",
    "    plt.close()\n",
    "\n",
    "print \"graph display ready\"    "
   ]
  },
  {
   "cell_type": "markdown",
   "metadata": {},
   "source": [
    "## Implement a basic driving agent\n",
    "\n",
    "Implement the basic driving agent, which processes the following inputs at each time step:\n",
    "\n",
    "Next waypoint location, relative to its current location and heading,\n",
    "Intersection state (traffic light and presence of cars), and,\n",
    "Current deadline value (time steps remaining),\n",
    "And produces some random move/action (None, 'forward', 'left', 'right'). Don’t try to implement the correct strategy! That’s exactly what your agent is supposed to learn.\n",
    "\n",
    "Run this agent within the simulation environment with enforce_deadline set to False (see run function in agent.py), and observe how it performs. In this mode, the agent is given unlimited time to reach the destination. The current state, action taken by your agent and reward/penalty earned are shown in the simulator.\n",
    "\n",
    "In your report, mention what you see in the agent’s behavior. Does it eventually make it to the target location?\n"
   ]
  },
  {
   "cell_type": "code",
   "execution_count": 113,
   "metadata": {
    "collapsed": false,
    "scrolled": false
   },
   "outputs": [
    {
     "name": "stdout",
     "output_type": "stream",
     "text": [
      "RandomAgent ready\n"
     ]
    }
   ],
   "source": [
    "class RandomAgent(Agent):\n",
    "    \"\"\"An agent that learns to drive in the smartcab world.\"\"\"\n",
    "\n",
    "    def __init__(self, env):\n",
    "        super(RandomAgent, self).__init__(env)  # sets self.env = env, state = None, next_waypoint = None, and a default color\n",
    "        self.color = 'red'  # override color\n",
    "        self.planner = RoutePlanner(self.env, self)  # simple route planner to get next_waypoint\n",
    "        # TODO: Initialize any additional variables here\n",
    "        self.availableAction = [None, 'forward', 'left', 'right']   \n",
    "        self.goal=0\n",
    "        self.steps=0\n",
    "        self.features=[]\n",
    "        self.deadline=[]\n",
    "        self.total_reward=[0]\n",
    "\n",
    "    def reset(self, destination=None):\n",
    "        self.planner.route_to(destination)\n",
    "        # TODO: Prepare for a new trip; reset any variables here, if required\n",
    "        #print\"RESET, Final state:\\n\", self.state\n",
    "        try:\n",
    "            if self.deadline[len(self.features)-1] >0: #deadline less than zero\n",
    "                self.goal+=1 #FIXME - order\n",
    "                print \"PASS! {} steps to goal,Goal reached {} times out of {}!\".format(\n",
    "                                                        self.deadline[len(self.features)-1],self.goal,len(self.features))\n",
    "            else:\n",
    "                print \"FAIL! {} steps to goal,Goal reached {} times out of {}!\".format(\n",
    "                                                        self.deadline[len(self.features)-1],self.goal,len(self.features))\n",
    "                pass\n",
    "        except:\n",
    "            print \"Trial 0 - Goal reached {} times out of {}!\".format(self.goal,len(self.features))\n",
    "            pass\n",
    "        print \"----------------------------------------------------------\"\n",
    "        self.features.append({})\n",
    "        self.deadline.append(None)\n",
    "        self.total_reward.append(0)\n",
    "        self.steps=0\n",
    "\n",
    "    def update(self, t):\n",
    "        # Gather inputs\n",
    "        self.steps+=1\n",
    "        self.next_waypoint = self.planner.next_waypoint()  # from route planner, also displayed by simulator\n",
    "        inputs = self.env.sense(self)\n",
    "        #self.deadline[len(self.features)] = self.env.get_deadline(self)\n",
    "        self.state=inputs\n",
    "        self.features[len(self.features)-1][self.steps]=inputs\n",
    "        self.deadline[len(self.deadline)-1] = self.env.get_deadline(self)\n",
    "\n",
    "        # TODO: Select action according to your policy\n",
    "        action = self.availableAction[random.randint(0,3)]    \n",
    "        \n",
    "        # Execute action and get reward\n",
    "        reward = self.env.act(self, action)\n",
    "        self.lastReward=reward\n",
    "        # TODO: Learn policy based on state, action, reward\n",
    "        self.total_reward[len(self.total_reward)-1] =self.total_reward[len(self.total_reward)-1]+reward\n",
    "        #print \"LearningAgent.update():deadline{}, inputs{}, action = {}, reward = {}, next_waypoint = {}\".format(\n",
    "        #                                            deadline, inputs, action, reward,self.next_waypoint, )  # [debug]\n",
    "print \"RandomAgent ready\""
   ]
  },
  {
   "cell_type": "code",
   "execution_count": 114,
   "metadata": {
    "collapsed": false,
    "scrolled": false
   },
   "outputs": [
    {
     "name": "stdout",
     "output_type": "stream",
     "text": [
      "redirecting stdout....\n",
      "stdout restored!\n",
      "Successfull runs = 0\n",
      "----------------------------------------------------------\n",
      "Qtable:  no Qtable\n"
     ]
    }
   ],
   "source": [
    "features,deadlines, rewards=run(agentType=RandomAgent,trials=2, deadline=False) #Example of a random run, with no deadline "
   ]
  },
  {
   "cell_type": "code",
   "execution_count": 115,
   "metadata": {
    "collapsed": false,
    "scrolled": true
   },
   "outputs": [
    {
     "name": "stdout",
     "output_type": "stream",
     "text": [
      "redirecting stdout....\n",
      "stdout restored!\n",
      "Successfull runs = 0\n",
      "----------------------------------------------------------\n",
      "Qtable:  no Qtable\n"
     ]
    }
   ],
   "source": [
    "features,deadlines, rewards=run(agentType=RandomAgent,trials=2, deadline=True) #Example of a random run"
   ]
  },
  {
   "cell_type": "markdown",
   "metadata": {},
   "source": [
    "### Random Agent - Discussion:\n",
    "\n",
    "When we run an agent with a random action policy, we see that it will move about the board with no pattern, and will eventually reach the destination. If we allow the use of deadlines, we see that the agent rarely reaches the destination in time, although it may still occur."
   ]
  },
  {
   "cell_type": "markdown",
   "metadata": {},
   "source": [
    "---------------------------------------------------------------"
   ]
  },
  {
   "cell_type": "markdown",
   "metadata": {},
   "source": [
    "\n",
    "## Identify and update state\n",
    "\n",
    "Identify a set of states that you think are appropriate for modeling the driving agent. The main source of state variables are current inputs, but not all of them may be worth representing. Also, you can choose to explicitly define states, or use some combination (vector) of inputs as an implicit state.\n",
    "\n",
    "At each time step, process the inputs and update the current state. Run it again (and as often as you need) to observe how the reported state changes through the run."
   ]
  },
  {
   "cell_type": "code",
   "execution_count": 116,
   "metadata": {
    "collapsed": false,
    "scrolled": false
   },
   "outputs": [
    {
     "name": "stdout",
     "output_type": "stream",
     "text": [
      "StateAgent Ready\n"
     ]
    }
   ],
   "source": [
    "class StateAgent(RandomAgent):\n",
    "    \"\"\"An agent that learns to drive in the smartcab world.\"\"\"\n",
    "\n",
    "    def __init__(self, env):\n",
    "        super(StateAgent, self).__init__(env)  # sets self.env = env, state = None, next_waypoint = None, and a default color\n",
    "        self.color = 'red'  # override color\n",
    "        self.planner = RoutePlanner(self.env, self)  # simple route planner to get next_waypoint\n",
    "        # TODO: Initialize any additional variables here\n",
    "        self.availableAction = [None, 'forward', 'left', 'right']   \n",
    "        self.next_waypoint   = None\n",
    "        self.goal=0\n",
    "        self.steps=0\n",
    "        self.features=[]\n",
    "        self.total_reward=[0]\n",
    "\n",
    "        \n",
    "    def update(self, t):\n",
    "        # Gather inputs\n",
    "        self.steps+=1\n",
    "        \n",
    "        self.lastWaypoint = self.next_waypoint\n",
    "        self.next_waypoint = self.planner.next_waypoint()  # from route planner, also displayed by simulator\n",
    "        inputs = self.env.sense(self)\n",
    "        \n",
    "        deadline = self.env.get_deadline(self)\n",
    "        \n",
    "        # TODO: Update state\n",
    "        \n",
    "        inputs['next_waypoint']=self.next_waypoint\n",
    "        self.state= inputs    \n",
    "        self.deadline[len(self.deadline)-1] = self.env.get_deadline(self)\n",
    "        self.features[len(self.features)-1][self.steps]=inputs\n",
    "        # TODO: Select action according to your policy\n",
    "\n",
    "        action = self.availableAction[random.randint(0,3)]    \n",
    "    \n",
    "        # Execute action and get reward\n",
    "        reward = self.env.act(self, action)\n",
    "        # TODO: Learn policy based on state, action, reward\n",
    "\n",
    "        self.total_reward[len(self.total_reward)-1] =self.total_reward[len(self.total_reward)-1]+reward\n",
    "\n",
    "        #print \"LearningAgent.update(): self.state{}, action = {}, reward = {}, next_waypoint = {}\".format(\n",
    "        #                                        self.state, action, reward,self.next_waypoint, )  # [debug]\n",
    "print \"StateAgent Ready\""
   ]
  },
  {
   "cell_type": "code",
   "execution_count": 125,
   "metadata": {
    "collapsed": false,
    "scrolled": true
   },
   "outputs": [
    {
     "name": "stdout",
     "output_type": "stream",
     "text": [
      "redirecting stdout....\n",
      "stdout restored!\n",
      "Successfull runs = 16\n",
      "----------------------------------------------------------\n",
      "Qtable:  no Qtable\n",
      "StateAgent done\n"
     ]
    }
   ],
   "source": [
    "# run the trials for the state\n",
    "stateFeatures,StateDeadlines,StateRewards=run(agentType=StateAgent,trials=100)\n",
    "\n",
    "print \"StateAgent done\""
   ]
  },
  {
   "cell_type": "code",
   "execution_count": 118,
   "metadata": {
    "collapsed": false
   },
   "outputs": [
    {
     "data": {
      "image/png": "[encoded data removed]",
      "text/plain": [
       "<matplotlib.figure.Figure at 0xcca4748>"
      ]
     },
     "metadata": {},
     "output_type": "display_data"
    }
   ],
   "source": [
    "if console == False:\n",
    "    statsFromRun(stateFeatures,StateDeadlines,StateRewards)\n",
    "    #scorePerRun(StateDeadlines,StateRewards)"
   ]
  },
  {
   "cell_type": "markdown",
   "metadata": {},
   "source": [
    "### Identify and update state - Discussion.\n",
    "When we sense our environment, we perceive 5 variables, with several possible states These include: left, light, next_waypoint, oncoming, and right. We can see right away that light and next_waypoint contains new information at every poll, while the others usually have no value. \n",
    "\n",
    "It's not readily apparent that the direction of travel information of the other cars (described by left/right/oncoming) is relevant to our agent. A case could be made to remove the direction information, and only retain information about another car being present at the light. This would have the benefit of reducing the number of possible states, increasing the speed of the agent. This may be a valuable approach in resource constrained environments. \n",
    "\n",
    "The downside is that the agent may pick an action that causes a longer trip. Early in the learning phase, it could also pick an action incorrectly. For instance, by proceeding through a light when the opposite car is turning left. In this case, it may have previously seen a positive reward for moving through the light, because the opposite car was not turning. This time through, it will recieve a negative reward, and in the future when a car is at the oncoming light, it will always wait till the intersection is clear.\n",
    "\n",
    "In the interest of correctness, we will choose to use the state as returned from the sensor, with the addition of the next_waypoint.\n",
    "\n",
    "While I have tracked the deadline, it is not apparent that it will provide useful information to the agent. It is useful to see note that the agent does not see any usefull increase in the deadline value yet. We may expect this to adapt as we implement learning."
   ]
  },
  {
   "cell_type": "markdown",
   "metadata": {},
   "source": [
    "---------------------------------------------------------------"
   ]
  },
  {
   "cell_type": "markdown",
   "metadata": {},
   "source": [
    "## Implement Q-Learning\n",
    "\n",
    "Implement the Q-Learning algorithm by initializing and updating a table/mapping of Q-values at each time step. Now, instead of randomly selecting an action, pick the best action available from the current state based on Q-values, and return that.\n",
    "\n",
    "Each action generates a corresponding numeric reward or penalty (which may be zero). Your agent should take this into account when updating Q-values. Run it again, and observe the behavior.\n",
    "\n",
    "What changes do you notice in the agent’s behavior?\n",
    "\n"
   ]
  },
  {
   "cell_type": "code",
   "execution_count": 119,
   "metadata": {
    "collapsed": false
   },
   "outputs": [
    {
     "name": "stdout",
     "output_type": "stream",
     "text": [
      "BasicLearningAgent Ready\n"
     ]
    }
   ],
   "source": [
    "class BasicLearningAgent(RandomAgent):\n",
    "    \"\"\"An agent that learns to drive in the smartcab world.\"\"\"\n",
    "\n",
    "    def __init__(self, env):\n",
    "        super(BasicLearningAgent, self).__init__(env)  # sets self.env = env, state = None, next_waypoint = None\n",
    "        self.color = 'red'  # override color\n",
    "        self.planner = RoutePlanner(self.env, self)  # simple route planner to get next_waypoint\n",
    "        # TODO: Initialize any additional variables here\n",
    "        self.availableAction = [None, 'forward', 'left', 'right']   \n",
    "        self.next_waypoint   = None\n",
    "        self.goal=0\n",
    "        self.steps=0\n",
    "        self.features=[]\n",
    "        self.Qtable={}\n",
    "        self.epsilon=0.0\n",
    "        self.gamma=0.0\n",
    "        self.total_reward=[0]\n",
    "\n",
    "    def get_state(self):\n",
    "        inputs = self.env.sense(self)\n",
    "        inputs['next_waypoint']=self.planner.next_waypoint()\n",
    "        return (inputs['light'], inputs['oncoming'], inputs['right'], inputs['left'],inputs['next_waypoint'])\n",
    "    \n",
    "    def set_action(self):\n",
    "        action = self.availableAction[random.randint(0,3)]    #take a random action\n",
    "   \n",
    "        # 1-epsilon % of time, refer to the q-table for an action. take the max value from the available actions\n",
    "        if self.epsilon < random.random() and  self.Qtable.has_key(self.state): \n",
    "            action=self.availableAction[self.Qtable[self.state].index(max(self.Qtable[self.state]))]\n",
    "        return action    \n",
    "        \n",
    "    def update_q_table(self,action,reward):\n",
    "        if not self.Qtable.has_key(self.state):\n",
    "            self.Qtable[self.state]=[0,0,0,0]\n",
    "       \n",
    "        new_state=self.get_state()\n",
    "        if not self.Qtable.has_key(new_state):\n",
    "            self.Qtable[new_state]=[0,0,0,0]\n",
    "            \n",
    "        self.Qtable[self.state][self.availableAction.index(action)]=reward+self.gamma*max(self.Qtable[new_state])\n",
    "                                                                                          \n",
    "        \n",
    "    def update(self, t):\n",
    "                                                                                          \n",
    "        # Gather inputs\n",
    "        self.steps+=1\n",
    "        self.next_waypoint = self.planner.next_waypoint()  # from route planner, also displayed by simulator\n",
    "        \n",
    "        # TODO: Update state\n",
    "        self.state = self.get_state()\n",
    "        \n",
    "        #store details of this run\n",
    "        self.deadline[len(self.deadline)-1] = self.env.get_deadline(self)\n",
    "        self.features[len(self.features)-1][self.steps]=self.env.sense(self)\n",
    "        self.features[len(self.features)-1][self.steps]['next_waypoint']=self.planner.next_waypoint()\n",
    "        \n",
    "        # TODO: Select action according to your policy\n",
    "        action = self.set_action()\n",
    "        # Execute action and get reward\n",
    "        reward = self.env.act(self, action)\n",
    "\n",
    "        # TODO: Learn policy based on state, action, reward\n",
    "        self.update_q_table(action,reward)\n",
    "        \n",
    "        #store details about our rewards\n",
    "        self.total_reward[len(self.total_reward)-1] =self.total_reward[len(self.total_reward)-1]+reward\n",
    "\n",
    "        \n",
    "print \"BasicLearningAgent Ready\""
   ]
  },
  {
   "cell_type": "code",
   "execution_count": 120,
   "metadata": {
    "collapsed": false
   },
   "outputs": [
    {
     "name": "stdout",
     "output_type": "stream",
     "text": [
      "redirecting stdout....\n",
      "stdout restored!\n",
      "Successfull runs = 1\n",
      "----------------------------------------------------------\n",
      "Qtable:  45\n",
      "state=light, oncoming, right, left, next_waypoint  / actions=None, forward, left, right\n",
      "\n",
      "state=green, left, right, None, forward / action=[0, 0, -0.5, 0]\n",
      "state=green, None, forward, None, forward / action=[0.0, 0, 0, 0]\n",
      "state=green, None, None, right, forward / action=[0, 2.0, 0, 0]\n",
      "state=red, None, None, forward, left / action=[0.0, 0, 0, -0.5]\n",
      "state=red, left, None, None, left / action=[0.0, 0, 0, 0]\n",
      "state=red, forward, None, None, forward / action=[0.0, 0, -1.0, 0]\n",
      "state=green, None, None, None, left / action=[0.0, 0, 0, 0]\n",
      "state=red, left, None, None, forward / action=[0.0, -1.0, 0, 0]\n",
      "state=red, None, None, left, right / action=[0, 0, 0, 2.0]\n",
      "state=red, None, left, None, forward / action=[0.0, 0, 0, -0.5]\n",
      "state=green, None, right, None, left / action=[0.0, 0, 0, -0.5]\n",
      "state=red, None, forward, None, left / action=[0.0, -1.0, 0, 0]\n",
      "state=red, None, None, right, left / action=[0, 0, -1.0, 0]\n",
      "state=red, None, right, None, left / action=[0.0, 0, 0, 0]\n",
      "state=green, None, right, None, forward / action=[0.0, 0, 0, 0]\n",
      "state=red, right, None, None, left / action=[0, -1.0, 0, 0]\n",
      "state=red, None, None, None, left / action=[0.0, 0, 0, 0]\n",
      "state=red, None, forward, None, forward / action=[0.0, 0, 0, -0.5]\n",
      "state=green, None, None, None, forward / action=[0.0, 0, 0, 0]\n",
      "state=green, None, None, forward, forward / action=[0.0, 0, 0, -0.5]\n",
      "state=red, None, None, forward, forward / action=[0.0, 0, -1.0, 0]\n",
      "state=red, forward, None, None, left / action=[0.0, 0, 0, 0]\n",
      "state=green, None, left, None, forward / action=[0.0, 0, 0, -0.5]\n",
      "state=red, None, None, None, right / action=[0.0, 0, 0, 0]\n",
      "state=green, None, None, right, left / action=[0.0, -0.5, 0, 0]\n",
      "state=green, None, left, None, right / action=[0.0, 0, 0, 0]\n",
      "state=red, forward, None, None, right / action=[0, 0, 0, 2.0]\n",
      "state=green, None, left, None, left / action=[0, 0, 2.0, 0]\n",
      "state=green, None, None, left, forward / action=[0.0, 0, 0, -0.5]\n",
      "state=red, None, None, None, None / action=[0, 0, 0, 0]\n",
      "state=green, None, None, left, left / action=[0.0, 0, 0, 0]\n",
      "state=red, None, right, None, right / action=[0.0, 0, 0, 0]\n",
      "state=green, left, None, None, forward / action=[0.0, 0, 0, -0.5]\n",
      "state=red, None, None, left, left / action=[0.0, 0, 0, -0.5]\n",
      "state=red, None, None, None, forward / action=[0.0, 0, 0, 0]\n",
      "state=red, right, None, None, forward / action=[0.0, 0, 0, -0.5]\n",
      "state=red, None, left, None, left / action=[0.0, 0, 0, -0.5]\n",
      "state=green, forward, None, None, left / action=[0, -0.5, 0, 0]\n",
      "state=green, None, None, forward, left / action=[0, 0, 2.0, 0]\n",
      "state=red, None, None, left, forward / action=[0.0, 0, 0, 0]\n",
      "state=red, None, right, None, forward / action=[0, -1.0, 0, 0]\n",
      "state=green, left, None, None, left / action=[0.0, -0.5, 0, 0]\n",
      "state=green, None, None, None, right / action=[0, 0, 0, 2.0]\n",
      "state=green, forward, None, None, right / action=[0, 0, 0, 2.0]\n",
      "state=red, None, None, right, forward / action=[0.0, 0, -1.0, 0]\n",
      "Basic Q Learning Agent done\n"
     ]
    }
   ],
   "source": [
    "# run the trials for the Basic Q learning agent\n",
    "basicLearnFeatures,BLdeadlines,BLrewards=run(agentType=BasicLearningAgent,trials=100, deadline=True) \n",
    "\n",
    "print \"Basic Q Learning Agent done\""
   ]
  },
  {
   "cell_type": "code",
   "execution_count": 121,
   "metadata": {
    "collapsed": false
   },
   "outputs": [
    {
     "data": {
      "image/png": "[encoded data removed]",
      "text/plain": [
       "<matplotlib.figure.Figure at 0x94ff908>"
      ]
     },
     "metadata": {},
     "output_type": "display_data"
    }
   ],
   "source": [
    "if console == False:\n",
    "    statsFromRun(basicLearnFeatures,BLdeadlines,BLrewards)\n",
    "    #scorePerRun(BLdeadlines,BLrewards)"
   ]
  },
  {
   "cell_type": "markdown",
   "metadata": {},
   "source": [
    "### Implement Q-Learning - Discussion\n",
    "With a basic Qlearning algorithm, we note that the agent quickly learns a set of rules that allow the agent to move toward the objective. Generarlly speaking the agent, is moving to the destination, but does not always make optimal choices.  We see the agent begin to obey some traffic rules and make moves toward it's destination. We can see that now the reward in each run is generally positive.\n",
    "\n",
    "We don't see a large continued increase in the agent speed toward the destination after the initial runs. We still see strange behavior such as repeated right turns back to the original destination, or staying in a no action state for extended periods, without much change in pattern through the run. With Epsilon set to 0, we don't see the agent select new behaviors, and with Gamma at 0 we don't consider our future state.\n"
   ]
  },
  {
   "cell_type": "markdown",
   "metadata": {},
   "source": [
    "---------------------------------------------------------------"
   ]
  },
  {
   "cell_type": "markdown",
   "metadata": {},
   "source": [
    "## Enhance the driving agent\n",
    "\n",
    "Apply the reinforcement learning techniques you have learnt, and tweak the parameters (e.g. learning rate, discount factor, action selection method, etc.), to improve the performance of your agent. Your goal is to get it to a point so that within 100 trials, the agent is able to learn a feasible policy - i.e. reach the destination within the allotted time, with net reward remaining positive.\n",
    "\n",
    "Report what changes you made to your basic implementation of Q-Learning to achieve the final version of the agent. How well does it perform?\n",
    "\n",
    "Does your agent get close to finding an optimal policy, i.e. reach the destination in the minimum possible time, and not incur any penalties?"
   ]
  },
  {
   "cell_type": "code",
   "execution_count": 122,
   "metadata": {
    "collapsed": false
   },
   "outputs": [
    {
     "name": "stdout",
     "output_type": "stream",
     "text": [
      "LearningAgent Ready\n"
     ]
    }
   ],
   "source": [
    "class LearningAgent(BasicLearningAgent):\n",
    "    \"\"\"An agent that learns to drive in the smartcab world.\"\"\"\n",
    "\n",
    "    def __init__(self, env):\n",
    "        super(LearningAgent, self).__init__(env)  # sets self.env = env, state = None, next_waypoint = None\n",
    "        self.color = 'red'  # override color\n",
    "        self.planner = RoutePlanner(self.env, self)  # simple route planner to get next_waypoint\n",
    "        # TODO: Initialize any additional variables here\n",
    "        self.availableAction = [None, 'forward', 'left', 'right']   \n",
    "        self.next_waypoint   = None\n",
    "        self.goal=0\n",
    "        self.steps=0\n",
    "        self.features=[]\n",
    "        self.Qtable={}\n",
    "        self.epsilon=0.05\n",
    "        self.gamma=0.4\n",
    "        self.total_reward=[0] \n",
    "        \n",
    "    def update_q_table(self,action,reward):\n",
    "        if not self.Qtable.has_key(self.state):\n",
    "            self.Qtable[self.state]=[0,0,0,0]\n",
    "       \n",
    "        new_state=self.get_state()\n",
    "        if not self.Qtable.has_key(new_state):\n",
    "            self.Qtable[new_state]=[0,0,0,0]\n",
    "            \n",
    "        self.Qtable[self.state][self.availableAction.index(action)]=reward+self.gamma*max(self.Qtable[new_state])\n",
    "                                                                                          \n",
    "    def update(self, t):\n",
    "                                                                                          \n",
    "        # Gather inputs\n",
    "        self.steps+=1\n",
    "        self.next_waypoint = self.planner.next_waypoint()  # from route planner, also displayed by simulator\n",
    "        \n",
    "        # TODO: Update state\n",
    "        self.state = self.get_state()\n",
    "        \n",
    "        #store details of this run\n",
    "        self.deadline[len(self.deadline)-1] = self.env.get_deadline(self)\n",
    "        self.features[len(self.features)-1][self.steps]=self.env.sense(self)\n",
    "        self.features[len(self.features)-1][self.steps]['next_waypoint']=self.planner.next_waypoint()\n",
    "        \n",
    "        # TODO: Select action according to your policy\n",
    "        action = self.set_action()\n",
    "        # Execute action and get reward\n",
    "        reward = self.env.act(self, action)\n",
    "\n",
    "        # TODO: Learn policy based on state, action, reward\n",
    "        self.update_q_table(action,reward)\n",
    "        \n",
    "        #store details about our rewards\n",
    "        self.total_reward[len(self.total_reward)-1] =self.total_reward[len(self.total_reward)-1]+reward\n",
    "\n",
    "        \n",
    "print \"LearningAgent Ready\""
   ]
  },
  {
   "cell_type": "markdown",
   "metadata": {},
   "source": [
    "## Enhance the driving agent - Discussion\n",
    "We immediatly see the agent begin learning when we begin using epsilon to explore new states. The addition of gamma provides many of the same benefits, and we see that agent learn to reach the destination as quickly as the first or second run. Following this, the agent will quickly begin to reach it's destination well before the deadline, with a positive score. "
   ]
  },
  {
   "cell_type": "markdown",
   "metadata": {},
   "source": [
    "---------------------------------------------------------------"
   ]
  },
  {
   "cell_type": "code",
   "execution_count": 124,
   "metadata": {
    "collapsed": false,
    "scrolled": false
   },
   "outputs": [
    {
     "name": "stdout",
     "output_type": "stream",
     "text": [
      "running....\n",
      "redirecting stdout....\n",
      "stdout restored!\n",
      "Successfull runs = 90\n",
      "----------------------------------------------------------\n",
      "Qtable:  50\n",
      "state=light, oncoming, right, left, next_waypoint  / actions=None, forward, left, right\n",
      "\n",
      "state=green, None, forward, None, forward / action=[0.13920000000000005, 0, 4.300000000000001, 0]\n",
      "state=green, None, right, None, forward / action=[0.0, 0, 0, 0]\n",
      "state=red, None, right, None, None / action=[0, 0, 0, 0]\n",
      "state=red, forward, None, None, forward / action=[0.0, 0, 0, 0]\n",
      "state=green, None, None, None, left / action=[0.8, 0, 2.8, -0.5]\n",
      "state=red, left, None, None, forward / action=[0.0, -1.0, 0, 0]\n",
      "state=green, None, None, left, forward / action=[0.0, 2.0, 0, 0]\n",
      "state=red, None, left, None, forward / action=[0.0, 0, 0, 0]\n",
      "state=red, left, None, None, right / action=[0, 0, 0, 2.0]\n",
      "state=red, forward, left, None, right / action=[0, 0, 0, 0]\n",
      "state=green, None, None, forward, right / action=[0.0, 0, 0, 0]\n",
      "state=green, None, right, None, None / action=[0, 0, 0, 0]\n",
      "state=red, right, None, None, left / action=[0, 0, -1.0, 0]\n",
      "state=red, None, None, None, left / action=[0.0, -1.0, -1.0, 0]\n",
      "state=red, None, None, forward, forward / action=[0, 0, 0, 0.81968]\n",
      "state=green, None, None, None, forward / action=[1.1199999999999999, 12.0, 0.3556800000000001, 0.30000000000000004]\n",
      "state=green, None, None, forward, forward / action=[0, 0, 1.3880000000000003, 0]\n",
      "state=red, None, None, right, right / action=[0.0, 0, 0, 0]\n",
      "state=red, None, forward, None, forward / action=[0.0, 0, 0, 0]\n",
      "state=green, None, None, None, None / action=[0, 0, 0, 0]\n",
      "state=green, None, None, right, None / action=[0, 0, 0, 0]\n",
      "state=red, forward, None, None, left / action=[0.0, -1.0, 0, 0]\n",
      "state=red, forward, None, forward, forward / action=[0, -1.0, 0, 0]\n",
      "state=red, None, None, None, right / action=[1.2480000000000002, 0.11999999999999988, 0.24800000000000022, 2.0]\n",
      "state=red, None, left, None, left / action=[0, 0, 0, 0.30000000000000004]\n",
      "state=green, None, None, right, left / action=[0, 0, 0, 0.6199999999999999]\n",
      "state=red, None, right, None, forward / action=[0.0, 0, 0, 0]\n",
      "state=red, forward, None, None, right / action=[0.0, 0, 0, 0]\n",
      "state=green, None, None, left, left / action=[0, 1.3880000000000003, 0, 0]\n",
      "state=red, None, left, None, None / action=[0, 0, 0, 0]\n",
      "state=green, None, None, right, forward / action=[0, 0, 0.30000000000000004, 0]\n",
      "state=green, None, left, None, forward / action=[1.9200000000000004, 3.33901312, -0.5, 0]\n",
      "state=red, None, None, None, None / action=[0, 0, 0, 0]\n",
      "state=red, None, right, None, right / action=[0, 0, 0, 0]\n",
      "state=green, left, None, None, forward / action=[0, 0, 2.2200000000000006, 0]\n",
      "state=green, forward, None, None, forward / action=[0.0, 0, 0, 0]\n",
      "state=red, None, None, None, forward / action=[0.0, -1.0, -1.0, -0.5]\n",
      "state=red, right, None, None, forward / action=[0.0, -1.0, 0, 0]\n",
      "state=red, None, None, left, left / action=[0.0, 0, 0, 0]\n",
      "state=green, None, forward, None, None / action=[0, 0, 0, 0]\n",
      "state=red, forward, None, None, None / action=[0, 0, 0, 0]\n",
      "state=red, None, None, left, forward / action=[0.0, 0, 0, 0]\n",
      "state=red, None, forward, None, right / action=[0.0, 0, 0, 0]\n",
      "state=red, None, None, left, None / action=[0, 0, 0, 0]\n",
      "state=red, right, None, None, right / action=[0.0, 0, 0, 0]\n",
      "state=green, None, forward, None, right / action=[0.0, 0, 0, 0]\n",
      "state=green, None, None, None, right / action=[1.0880000000000003, 0.38800000000000034, 2.2200000000000006, 3.8880000000000003]\n",
      "state=green, forward, None, None, right / action=[0, 0, 0, 0]\n",
      "state=green, left, None, None, right / action=[0.0, 0, 0, 0]\n",
      "state=red, None, None, right, forward / action=[0, 0, -1.0, 0]\n"
     ]
    },
    {
     "data": {
      "image/png": "[encoded data removed]",
      "text/plain": [
       "<matplotlib.figure.Figure at 0xb6a15c0>"
      ]
     },
     "metadata": {},
     "output_type": "display_data"
    },
    {
     "name": "stdout",
     "output_type": "stream",
     "text": [
      "\n",
      "Q Learning Agent done\n"
     ]
    }
   ],
   "source": [
    "if __name__ == '__main__':\n",
    "    print  \"running....\"\n",
    "    #run(agentType=BasicLearningAgent,trials=100, gui=console, delay=.1)\n",
    "    QlearnFeatures,QLdeadlines,QLrewards=run(agentType=LearningAgent,trials=100, deadline=True,gui=console, delay=.1)\n",
    "    statsFromRun(QlearnFeatures,QLdeadlines,QLrewards)\n",
    "    #scorePerRun(QLdeadlines,QLrewards)\n",
    "    print \"\\nQ Learning Agent done\""
   ]
  },
  {
   "cell_type": "markdown",
   "metadata": {},
   "source": [
    "#EOF"
   ]
  }
 ],
 "metadata": {
  "kernelspec": {
   "display_name": "Python 2",
   "language": "python",
   "name": "python2"
  },
  "language_info": {
   "codemirror_mode": {
    "name": "ipython",
    "version": 2
   },
   "file_extension": ".py",
   "mimetype": "text/x-python",
   "name": "python",
   "nbconvert_exporter": "python",
   "pygments_lexer": "ipython2",
   "version": "2.7.11"
  }
 },
 "nbformat": 4,
 "nbformat_minor": 0
}
