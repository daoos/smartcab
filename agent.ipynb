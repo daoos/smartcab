{
 "cells": [
  {
   "cell_type": "markdown",
   "metadata": {},
   "source": [
    "# Teach a smartcab to drive\n",
    "\n",
    "\n",
    "## Setup\n",
    "\n",
    "You need Python 2.7 and pygame for this project: https://www.pygame.org/wiki/GettingStarted\n",
    "For help with installation, it is best to reach out to the pygame community [help page, Google group, reddit].\n",
    "\n"
   ]
  },
  {
   "cell_type": "code",
   "execution_count": 1,
   "metadata": {
    "collapsed": false
   },
   "outputs": [
    {
     "name": "stdout",
     "output_type": "stream",
     "text": [
      "Environment ready\n"
     ]
    }
   ],
   "source": [
    "# Import what we need, and setup the basic function to run from later.\n",
    "\n",
    "import math\n",
    "import string\n",
    "import sys\n",
    "import os\n",
    "import random\n",
    "\n",
    "import numpy as np\n",
    "import pandas as pd\n",
    "from IPython.display import display # Allows the use of display() for DataFrames\n",
    "\n",
    "# Show matplotlib plots inline (nicely formatted in the notebook)\n",
    "%matplotlib inline\n",
    "\n",
    "sys.path.append(\"./smartcab/\")\n",
    "from environment import Agent, Environment\n",
    "from planner import RoutePlanner\n",
    "from simulator import Simulator\n",
    "\n",
    "def run(agentType,trials=10, gui=False, deadline=False, delay=0):\n",
    "    \"\"\"Run the agent for a finite number of trials.\"\"\"\n",
    "\n",
    "    # Set up environment and agent\n",
    "    e = Environment()  # create environment (also adds some dummy traffic)\n",
    "    a = e.create_agent(agentType)  # create agent\n",
    "    e.set_primary_agent(a, enforce_deadline=deadline)  # specify agent to track\n",
    "    # NOTE: You can set enforce_deadline=False while debugging to allow longer trials\n",
    "\n",
    "    # Now simulate it\n",
    "    sim = Simulator(e, update_delay=delay, display=gui)  # create simulator (uses pygame when display=True, if available)\n",
    "    # NOTE: To speed up simulation, reduce update_delay and/or set display=False\n",
    "\n",
    "    sim.run(n_trials=trials)  # run for a specified number of trials\n",
    "    # NOTE: To quit midway, press Esc or close pygame window, or hit Ctrl+C on the command-line\n",
    "    print \"Successfull runs = {}\".format(a.goal)\n",
    "    print \"----------------------------------------------------------\"\n",
    "    \n",
    "    return pd.DataFrame(a.features).T\n",
    "    \n",
    "print \"Environment ready\""
   ]
  },
  {
   "cell_type": "markdown",
   "metadata": {},
   "source": [
    "## Implement a basic driving agent\n",
    "\n",
    "Implement the basic driving agent, which processes the following inputs at each time step:\n",
    "\n",
    "Next waypoint location, relative to its current location and heading,\n",
    "Intersection state (traffic light and presence of cars), and,\n",
    "Current deadline value (time steps remaining),\n",
    "And produces some random move/action (None, 'forward', 'left', 'right'). Don’t try to implement the correct strategy! That’s exactly what your agent is supposed to learn.\n",
    "\n",
    "Run this agent within the simulation environment with enforce_deadline set to False (see run function in agent.py), and observe how it performs. In this mode, the agent is given unlimited time to reach the destination. The current state, action taken by your agent and reward/penalty earned are shown in the simulator.\n",
    "\n",
    "In your report, mention what you see in the agent’s behavior. Does it eventually make it to the target location?\n"
   ]
  },
  {
   "cell_type": "code",
   "execution_count": 2,
   "metadata": {
    "collapsed": false
   },
   "outputs": [
    {
     "name": "stdout",
     "output_type": "stream",
     "text": [
      "RandomAgent ready\n"
     ]
    }
   ],
   "source": [
    "class RandomAgent(Agent):\n",
    "    \"\"\"An agent that learns to drive in the smartcab world.\"\"\"\n",
    "\n",
    "    def __init__(self, env):\n",
    "        super(RandomAgent, self).__init__(env)  # sets self.env = env, state = None, next_waypoint = None, and a default color\n",
    "        self.color = 'red'  # override color\n",
    "        self.planner = RoutePlanner(self.env, self)  # simple route planner to get next_waypoint\n",
    "        # TODO: Initialize any additional variables here\n",
    "        self.availableAction = [None, 'forward', 'left', 'right']   \n",
    "        self.goal=0\n",
    "        self.runs=0\n",
    "        self.features={}\n",
    "\n",
    "\n",
    "    def reset(self, destination=None):\n",
    "        self.planner.route_to(destination)\n",
    "        # TODO: Prepare for a new trip; reset any variables here, if required\n",
    "        #print\"RESET, Final state:\\n\", self.state\n",
    "        try:\n",
    "            if self.state[0]>0:\n",
    "                print \"PASS! {} steps to goal,Goal reached {} times out of {}!\".format(self.state[0],self.goal,self.runs)\n",
    "                self.goal+=1\n",
    "            else:\n",
    "                print \"FAIL! {} steps to goal,Goal reached {} times out of {}!\".format(self.state[0],self.goal,self.runs)\n",
    "                pass\n",
    "        except:\n",
    "            print \"Trial 0 - Goal reached {} times out of {}!\".format(self.goal,self.runs)\n",
    "            pass\n",
    "        print \"----------------------------------------------------------\"\n",
    "\n",
    "    def update(self, t):\n",
    "        # Gather inputs\n",
    "        self.next_waypoint = self.planner.next_waypoint()  # from route planner, also displayed by simulator\n",
    "        inputs = self.env.sense(self)\n",
    "        deadline = self.env.get_deadline(self)\n",
    "        self.state=(deadline,inputs)\n",
    "        # TODO: Select action according to your policy\n",
    "        action = self.availableAction[random.randint(0,3)]    \n",
    "        \n",
    "        # Execute action and get reward\n",
    "        reward = self.env.act(self, action)\n",
    "        self.lastReward=reward\n",
    "        # TODO: Learn policy based on state, action, reward\n",
    "        \n",
    "        #print \"LearningAgent.update():deadline{}, inputs{}, action = {}, reward = {}, next_waypoint = {}\".format(deadline, inputs, action, reward,self.next_waypoint, )  # [debug]\n",
    "print \"RandomAgent ready\""
   ]
  },
  {
   "cell_type": "code",
   "execution_count": 3,
   "metadata": {
    "collapsed": false
   },
   "outputs": [
    {
     "name": "stdout",
     "output_type": "stream",
     "text": [
      "Simulator.run(): Trial 0\n",
      "Environment.reset(): Trial set up with start = (6, 4), destination = (1, 3), deadline = 30\n",
      "RoutePlanner.route_to(): destination = (1, 3)\n",
      "Trial 0 - Goal reached 0 times out of 0!\n",
      "----------------------------------------------------------\n",
      "Environment.step(): Primary agent hit hard time limit (-100)! Trial aborted.\n",
      "Simulator.run(): Trial 1\n",
      "Environment.reset(): Trial set up with start = (6, 6), destination = (1, 3), deadline = 40\n",
      "RoutePlanner.route_to(): destination = (1, 3)\n",
      "FAIL! -100 steps to goal,Goal reached 0 times out of 0!\n",
      "----------------------------------------------------------\n",
      "Environment.act(): Primary agent has reached destination!\n",
      "Successfull runs = 0\n",
      "----------------------------------------------------------\n"
     ]
    },
    {
     "data": {
      "text/html": [
       "<div>\n",
       "<table border=\"1\" class=\"dataframe\">\n",
       "  <thead>\n",
       "    <tr style=\"text-align: right;\">\n",
       "      <th></th>\n",
       "    </tr>\n",
       "  </thead>\n",
       "  <tbody>\n",
       "  </tbody>\n",
       "</table>\n",
       "</div>"
      ],
      "text/plain": [
       "Empty DataFrame\n",
       "Columns: []\n",
       "Index: []"
      ]
     },
     "execution_count": 3,
     "metadata": {},
     "output_type": "execute_result"
    }
   ],
   "source": [
    "run(agentType=RandomAgent,trials=2, deadline=False) #Example of a random run, with no deadline "
   ]
  },
  {
   "cell_type": "code",
   "execution_count": 4,
   "metadata": {
    "collapsed": false,
    "scrolled": true
   },
   "outputs": [
    {
     "name": "stdout",
     "output_type": "stream",
     "text": [
      "Simulator.run(): Trial 0\n",
      "Environment.reset(): Trial set up with start = (1, 3), destination = (8, 1), deadline = 45\n",
      "RoutePlanner.route_to(): destination = (8, 1)\n",
      "Trial 0 - Goal reached 0 times out of 0!\n",
      "----------------------------------------------------------\n",
      "Environment.step(): Primary agent ran out of time! Trial aborted.\n",
      "Simulator.run(): Trial 1\n",
      "Environment.reset(): Trial set up with start = (5, 4), destination = (2, 6), deadline = 25\n",
      "RoutePlanner.route_to(): destination = (2, 6)\n",
      "FAIL! 0 steps to goal,Goal reached 0 times out of 0!\n",
      "----------------------------------------------------------\n",
      "Environment.step(): Primary agent ran out of time! Trial aborted.\n",
      "Successfull runs = 0\n",
      "----------------------------------------------------------\n"
     ]
    },
    {
     "data": {
      "text/html": [
       "<div>\n",
       "<table border=\"1\" class=\"dataframe\">\n",
       "  <thead>\n",
       "    <tr style=\"text-align: right;\">\n",
       "      <th></th>\n",
       "    </tr>\n",
       "  </thead>\n",
       "  <tbody>\n",
       "  </tbody>\n",
       "</table>\n",
       "</div>"
      ],
      "text/plain": [
       "Empty DataFrame\n",
       "Columns: []\n",
       "Index: []"
      ]
     },
     "execution_count": 4,
     "metadata": {},
     "output_type": "execute_result"
    }
   ],
   "source": [
    "run(agentType=RandomAgent,trials=2, deadline=True) #Example of a random run"
   ]
  },
  {
   "cell_type": "markdown",
   "metadata": {},
   "source": [
    "### Random Agent Answer:\n",
    "\n",
    "When we run an agent with a random action policy, we see that it will move about the board with no pattern, and will eventually reach the destination. If we allow the use of deadlines, we see that the agent rarely reaches the destination in time, although it may still occur."
   ]
  },
  {
   "cell_type": "markdown",
   "metadata": {},
   "source": [
    "\n",
    "## Identify and update state\n",
    "\n",
    "Identify a set of states that you think are appropriate for modeling the driving agent. The main source of state variables are current inputs, but not all of them may be worth representing. Also, you can choose to explicitly define states, or use some combination (vector) of inputs as an implicit state.\n",
    "\n",
    "At each time step, process the inputs and update the current state. Run it again (and as often as you need) to observe how the reported state changes through the run."
   ]
  },
  {
   "cell_type": "code",
   "execution_count": 5,
   "metadata": {
    "collapsed": false
   },
   "outputs": [
    {
     "name": "stdout",
     "output_type": "stream",
     "text": [
      "StateAgent Ready\n"
     ]
    }
   ],
   "source": [
    "class StateAgent(RandomAgent):\n",
    "    \"\"\"An agent that learns to drive in the smartcab world.\"\"\"\n",
    "\n",
    "    def __init__(self, env):\n",
    "        super(StateAgent, self).__init__(env)  # sets self.env = env, state = None, next_waypoint = None, and a default color\n",
    "        self.color = 'red'  # override color\n",
    "        self.planner = RoutePlanner(self.env, self)  # simple route planner to get next_waypoint\n",
    "        # TODO: Initialize any additional variables here\n",
    "        self.availableAction = [None, 'forward', 'left', 'right']   \n",
    "        self.next_waypoint   = None\n",
    "        self.goal=0\n",
    "        self.runs=0\n",
    "        self.features={}\n",
    "        \n",
    "    \n",
    "    def update(self, t):\n",
    "        # Gather inputs\n",
    "        self.lastWaypoint = self.next_waypoint\n",
    "        self.next_waypoint = self.planner.next_waypoint()  # from route planner, also displayed by simulator\n",
    "        inputs = self.env.sense(self)\n",
    "        \n",
    "        deadline = self.env.get_deadline(self)\n",
    "        \n",
    "        self.runs+=1\n",
    "\n",
    "        # TODO: Update state\n",
    "        inputs['deadline']=deadline\n",
    "        inputs['next_waypoint']=self.next_waypoint\n",
    "        self.state= inputs    \n",
    "        self.features[self.runs]=self.state\n",
    "        # TODO: Select action according to your policy\n",
    "\n",
    "        action = self.availableAction[random.randint(0,3)]    \n",
    "    \n",
    "        # Execute action and get reward\n",
    "        reward = self.env.act(self, action)\n",
    "        # TODO: Learn policy based on state, action, reward\n",
    "\n",
    "        #print \"LearningAgent.update(): self.state{}, action = {}, reward = {}, next_waypoint = {}\".format(self.state, action, reward,self.next_waypoint, )  # [debug]\n",
    "print \"StateAgent Ready\""
   ]
  },
  {
   "cell_type": "code",
   "execution_count": 32,
   "metadata": {
    "collapsed": false,
    "scrolled": false
   },
   "outputs": [
    {
     "name": "stdout",
     "output_type": "stream",
     "text": [
      "Simulator.run(): Trial 0\n",
      "Environment.reset(): Trial set up with start = (7, 3), destination = (5, 5), deadline = 20\n",
      "RoutePlanner.route_to(): destination = (5, 5)\n",
      "Trial 0 - Goal reached 0 times out of 0!\n",
      "----------------------------------------------------------\n",
      "Environment.act(): Primary agent has reached destination!\n",
      "Simulator.run(): Trial 1\n",
      "Environment.reset(): Trial set up with start = (1, 2), destination = (6, 4), deadline = 35\n",
      "RoutePlanner.route_to(): destination = (6, 4)\n",
      "Trial 0 - Goal reached 0 times out of 105!\n",
      "----------------------------------------------------------\n",
      "Environment.step(): Primary agent hit hard time limit (-100)! Trial aborted.\n",
      "Simulator.run(): Trial 2\n",
      "Environment.reset(): Trial set up with start = (4, 6), destination = (4, 1), deadline = 25\n",
      "RoutePlanner.route_to(): destination = (4, 1)\n",
      "Trial 0 - Goal reached 0 times out of 241!\n",
      "----------------------------------------------------------\n",
      "Environment.act(): Primary agent has reached destination!\n",
      "Simulator.run(): Trial 3\n",
      "Environment.reset(): Trial set up with start = (6, 5), destination = (2, 5), deadline = 20\n",
      "RoutePlanner.route_to(): destination = (2, 5)\n",
      "Trial 0 - Goal reached 0 times out of 246!\n",
      "----------------------------------------------------------\n",
      "Environment.step(): Primary agent hit hard time limit (-100)! Trial aborted.\n",
      "Simulator.run(): Trial 4\n",
      "Environment.reset(): Trial set up with start = (3, 1), destination = (1, 6), deadline = 35\n",
      "RoutePlanner.route_to(): destination = (1, 6)\n",
      "Trial 0 - Goal reached 0 times out of 367!\n",
      "----------------------------------------------------------\n",
      "Environment.act(): Primary agent has reached destination!\n",
      "Successfull runs = 0\n",
      "----------------------------------------------------------\n",
      "features:\n",
      "  deadline  left  light next_waypoint oncoming right\n",
      "1       20  None  green       forward     None  None\n",
      "2       19  None  green       forward     None  None\n",
      "3       18  None    red         right     None  None\n",
      "4       17  None  green         right     None  None\n",
      "5       16  None  green         right     None  None\n"
     ]
    },
    {
     "data": {
      "text/plain": [
       "<matplotlib.axes._subplots.AxesSubplot at 0xc52db38>"
      ]
     },
     "execution_count": 32,
     "metadata": {},
     "output_type": "execute_result"
    },
    {
     "data": {
      "image/png": "[encoded data removed]",
      "text/plain": [
       "<matplotlib.figure.Figure at 0xbd9ca90>"
      ]
     },
     "metadata": {},
     "output_type": "display_data"
    }
   ],
   "source": [
    "stateFeatures=run(agentType=StateAgent,trials=5)\n",
    "\n",
    "print \"features:\\n\",stateFeatures.head(5)\n",
    "\n",
    "#stateFeatures.next_waypoint\n",
    "\n",
    "import matplotlib.pyplot as plt\n",
    "\n",
    "fig, axes = plt.subplots(nrows=2, ncols=3,figsize=(14,6))\n",
    "\n",
    "pd.value_counts(stateFeatures.left.ravel()).plot(kind='bar', title=\"Left\",ax=axes[0,0])\n",
    "pd.value_counts(stateFeatures.light.ravel()).plot(kind='bar', title=\"Light\",ax=axes[0,1])\n",
    "pd.value_counts(stateFeatures.next_waypoint.ravel()).plot(kind='bar', title=\"next_waypoint\",ax=axes[0,2])\n",
    "pd.value_counts(stateFeatures.oncoming.ravel()).plot(kind='bar', title=\"oncoming\",ax=axes[1,0])\n",
    "pd.value_counts(stateFeatures.right.ravel()).plot(kind='bar', title=\"right\",ax=axes[1,2])\n"
   ]
  },
  {
   "cell_type": "markdown",
   "metadata": {},
   "source": [
    "## Implement Q-Learning\n",
    "\n",
    "Implement the Q-Learning algorithm by initializing and updating a table/mapping of Q-values at each time step. Now, instead of randomly selecting an action, pick the best action available from the current state based on Q-values, and return that.\n",
    "\n",
    "Each action generates a corresponding numeric reward or penalty (which may be zero). Your agent should take this into account when updating Q-values. Run it again, and observe the behavior.\n",
    "\n",
    "What changes do you notice in the agent’s behavior?\n",
    "\n"
   ]
  },
  {
   "cell_type": "markdown",
   "metadata": {},
   "source": [
    "## Enhance the driving agent\n",
    "\n",
    "Apply the reinforcement learning techniques you have learnt, and tweak the parameters (e.g. learning rate, discount factor, action selection method, etc.), to improve the performance of your agent. Your goal is to get it to a point so that within 100 trials, the agent is able to learn a feasible policy - i.e. reach the destination within the allotted time, with net reward remaining positive.\n",
    "\n",
    "Report what changes you made to your basic implementation of Q-Learning to achieve the final version of the agent. How well does it perform?\n",
    "\n",
    "Does your agent get close to finding an optimal policy, i.e. reach the destination in the minimum possible time, and not incur any penalties?\n",
    "\n",
    " PREVIOUS"
   ]
  },
  {
   "cell_type": "code",
   "execution_count": 81,
   "metadata": {
    "collapsed": false
   },
   "outputs": [
    {
     "name": "stdout",
     "output_type": "stream",
     "text": [
      "running....\n",
      "Simulator.run(): Trial 0\n",
      "Environment.reset(): Trial set up with start = (8, 1), destination = (7, 5), deadline = 25\n",
      "RoutePlanner.route_to(): destination = (7, 5)\n",
      "Trial 0 - Goal reached 0 times out of 1!\n",
      "----------------------------------------------------------\n",
      "Environment.act(): Primary agent has reached destination!\n",
      "Simulator.run(): Trial 1\n",
      "Environment.reset(): Trial set up with start = (6, 2), destination = (4, 5), deadline = 25\n",
      "RoutePlanner.route_to(): destination = (4, 5)\n",
      "PASS! 22 steps to goal,Goal reached 0 times out of 2!\n",
      "----------------------------------------------------------\n",
      "Successfull runs = 1\n",
      "----------------------------------------------------------\n",
      "featuers:\n",
      "{}\n"
     ]
    }
   ],
   "source": [
    "if __name__ == '__main__':\n",
    "    print  \"running....\"\n",
    "    run(agentType=RandomAgent,trials=2, gui=True, delay=.3)\n"
   ]
  },
  {
   "cell_type": "markdown",
   "metadata": {},
   "source": [
    "#EOF"
   ]
  }
 ],
 "metadata": {
  "kernelspec": {
   "display_name": "Python 2",
   "language": "python",
   "name": "python2"
  },
  "language_info": {
   "codemirror_mode": {
    "name": "ipython",
    "version": 2
   },
   "file_extension": ".py",
   "mimetype": "text/x-python",
   "name": "python",
   "nbconvert_exporter": "python",
   "pygments_lexer": "ipython2",
   "version": "2.7.11"
  }
 },
 "nbformat": 4,
 "nbformat_minor": 0
}
